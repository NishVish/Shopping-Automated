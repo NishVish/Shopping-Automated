{
 "cells": [
  {
   "cell_type": "code",
   "execution_count": null,
   "id": "564d3955-c0bc-4104-8630-4741438a2440",
   "metadata": {},
   "outputs": [],
   "source": [
    "# a = \"google.com\"\n",
    "# b = \"fb.com\"\n",
    "# aa = \"intagram\"\n",
    "# bb = \" reddit\"\n",
    "# lis = [\"OnePlus Nord\", \"iPhone 12\", \"Samsung Galaxy S21\"]\n",
    "# hkey = {\"OnePlus Nord\":{128:a,256:b},\"iPhone 12\":{128:aa,256:bb}}"
   ]
  },
  {
   "cell_type": "code",
   "execution_count": null,
   "id": "63d67455-897c-4663-b47d-571f692f9007",
   "metadata": {},
   "outputs": [],
   "source": [
    "# def choose_phone_variant(x,y):\n",
    "#     res = hkey.get(lis[x])\n",
    "#     fin = res.get(y)\n",
    "#     print(fin)"
   ]
  },
  {
   "cell_type": "code",
   "execution_count": null,
   "id": "9080f704-1720-45e0-b526-c871a52b7303",
   "metadata": {},
   "outputs": [],
   "source": [
    "# choose_phone_variant(0,128)"
   ]
  },
  {
   "cell_type": "code",
   "execution_count": null,
   "id": "0aeea5e6-da46-4fc4-9da8-59362055c8f5",
   "metadata": {},
   "outputs": [],
   "source": [
    "import pandas as pd"
   ]
  },
  {
   "cell_type": "code",
   "execution_count": null,
   "id": "35152437-29a5-4d47-adb4-303521f65a28",
   "metadata": {},
   "outputs": [],
   "source": [
    "import pandas as pd\n",
    "url = \"https://www.mysmartprice.com/mobile/pricelist/latest-mobile-phones.html\""
   ]
  },
  {
   "cell_type": "code",
   "execution_count": null,
   "id": "4057b67e-7e29-464e-bd5d-a8f0b254c678",
   "metadata": {},
   "outputs": [],
   "source": [
    "import pandas as pd\n",
    "url = \"https://www.mysmartprice.com/mobile/pricelist/latest-mobile-phones.html\"\n",
    "url_data = pd.read_html(url)"
   ]
  },
  {
   "cell_type": "code",
   "execution_count": null,
   "id": "e274da23-80b0-4b49-a080-cf3620a24a5b",
   "metadata": {},
   "outputs": [],
   "source": [
    "import pandas as pd\n",
    "url = \"https://www.mysmartprice.com/mobile/pricelist/latest-mobile-phones.html\"\n",
    "url_data = pd.read_html(url)\n",
    "data = url_data[0]"
   ]
  },
  {
   "cell_type": "code",
   "execution_count": null,
   "id": "006853ac-9f5a-4489-9d49-d4b7aa01a332",
   "metadata": {},
   "outputs": [],
   "source": [
    "phone = list(data['Mobile Phones'])\n",
    "phone"
   ]
  },
  {
   "cell_type": "code",
   "execution_count": null,
   "id": "8a3c3dda-4600-4154-8e38-7432b9870c4d",
   "metadata": {
    "scrolled": true
   },
   "outputs": [],
   "source": [
    "import time\n",
    "from selenium import webdriver\n",
    "from selenium.webdriver.common.by import By\n",
    "from selenium.webdriver.common.keys import Keys\n",
    "from selenium.webdriver.chrome.options import Options\n",
    "import webbrowser\n",
    "from tkinter import *\n",
    "\n",
    "from selenium.webdriver.common.by import By\n",
    "from selenium.webdriver.support.ui import WebDriverWait\n",
    "from selenium.webdriver.support import expected_conditions as EC\n",
    "\n",
    "def add_to_cart():\n",
    "    selected_phone = phone_var.get()\n",
    "    selected_variant = variant_var.get()\n",
    "    seach_q = search_entry.get()\n",
    "    if (seach_q):\n",
    "        chrome_options = Options()\n",
    "        chrome_options.add_argument(\"C:\\Program Files\\Google\\Chrome\\Application\\chrome.exe\")  # Replace with the actual path\n",
    "        driver = webdriver.Chrome(options=chrome_options)\n",
    "\n",
    "        # Open Amazon's homepage\n",
    "        string = seach_q.replace(' ', \"+\"); \n",
    "        driver.get(\"https://www.amazon.in/s?k=\"+string)\n",
    "        # time.sleep(2)\n",
    "\n",
    "        #Find the search box and input your search query\n",
    "        # search_box = driver.find_element(By.XPATH, \"//input[@id='twotabsearchtextbox']\")\n",
    "        # search_box.send_keys(seach_q)\n",
    "        # search_box.send_keys(Keys.RETURN)\n",
    "    \n",
    "        # Click on the first search result\n",
    "        first_result = driver.find_element(By.XPATH, \"//span[@class='a-size-medium a-color-base a-text-normal']\")\n",
    "        first_result.click()\n",
    "    \n",
    "        #Wait for the product page to load\n",
    "        # time.sleep(2)\n",
    "    \n",
    "        #Find the \"Add to Cart\" button and click it\n",
    "        add_to_cart_button = driver.find_element(By.XPATH, \"//input[@id='add-to-cart-button']\")\n",
    "        add_to_cart_button.click()\n",
    "        time.sleep(2)\n",
    "        # Close the browser after adding to cart\n",
    "        #driver.quit()\n",
    "            \n",
    "    else:\n",
    "        # print(\"Blank\")\n",
    "        selected_phone = phone_var.get()\n",
    "        selected_variant = variant_var.get()\n",
    "        \n",
    "\n",
    "        \n",
    "        chrome_options = Options()\n",
    "        chrome_options.add_argument(\"C:\\Program Files\\Google\\Chrome\\Application\\chrome.exe\")  # Replace with the actual path\n",
    "        driver = webdriver.Chrome(options=chrome_options)\n",
    "\n",
    "\n",
    "        string = seach_q.replace(' ', \"+\"); \n",
    "        selected_p = selected_phone.replace(' ', \"+\");\n",
    "        driver.get(\"https://www.amazon.in/s?k=\"+selected_p+selected_variant)\n",
    "    \n",
    "        # product_url = \"\"\n",
    "    \n",
    "        # if selected_phone == phones[0]:\n",
    "        #     if selected_variant == variants[0]: #128\n",
    "        #         product_url = \"https://www.amazon.in/OnePlus-Nord-Shimmer-128GB-Storage/dp/B0C9QPJY5R/ref=sr_1_1?crid=3IJLCJJMOI42V&keywords=oneplus%2Bnord%2Bce%2B3&qid=1691948784&sprefix=oneplus%2Bnord%2Bce%2B3%2B%2Caps%2C495&sr=8-1&th=1\"\n",
    "        #     elif selected_variant == variants[1]: #256\n",
    "        #         product_url = \"https://www.amazon.in/OnePlus-Nord-Shimmer-256GB-Storage/dp/B0C9QPBZD9/ref=sr_1_4?keywords=oneplus%2Bnord%2Bce%2B3&qid=1691952081&sr=8-4\"\n",
    "            \n",
    "       # Click on the first search result\n",
    "        first_result = driver.find_element(By.XPATH, \"//span[@class='a-size-medium a-color-base a-text-normal']\")\n",
    "        first_result.click()\n",
    "    \n",
    "        #Wait for the product page to load\n",
    "        # time.sleep(2)\n",
    "    \n",
    "        #Find the \"Add to Cart\" button and click it\n",
    "        wait = WebDriverWait(driver, 10)\n",
    "        add_to_cart_button = wait.until(EC.element_to_be_clickable((By.XPATH, \"updated_xpath_here\")))\n",
    "    \n",
    "        # Click the \"Add to Cart\" button\n",
    "        add_to_cart_button.click()\n",
    "\n",
    "        #driver.quit()\n",
    "\n",
    "# Create UI using tkinter\n",
    "import tkinter as tk\n",
    "root = Tk()\n",
    "root.title(\"Amazon Cart Automation\")\n",
    "\n",
    "# Set the default size of the UI (width x height)\n",
    "default_width = 490\n",
    "default_height = 150\n",
    "root.geometry(f\"{default_width}x{default_height}\")\n",
    "\n",
    "\n",
    "\n",
    "\n",
    "phones = phone\n",
    "phone_var = StringVar()\n",
    "phone_var.set(phones[0])\n",
    "phone_dropdown = OptionMenu(root, phone_var, *phones)\n",
    "phone_dropdown.pack()\n",
    "\n",
    "variants = [\"128GB\", \"256GB\"]\n",
    "variant_var = StringVar()\n",
    "variant_var.set(variants[0])\n",
    "variant_dropdown = OptionMenu(root, variant_var, *variants)\n",
    "variant_dropdown.pack()\n",
    "\n",
    "add_this_item = Button(root, text=\"Add this Item\", command=add_to_cart)\n",
    "add_this_item.pack()\n",
    "\n",
    "search_label = Label(root, text=\"Or Direct Search on Amazon:\")\n",
    "search_label.pack()\n",
    "\n",
    "search_var = StringVar()\n",
    "search_entry = Entry(root, textvariable=search_var)\n",
    "search_entry.pack()\n",
    "\n",
    "add_to_cart_button = Button(root, text=\"Search and Add to Cart\", command=add_to_cart)\n",
    "add_to_cart_button.pack()\n",
    "\n",
    "\n",
    "\n",
    "\n",
    "root.mainloop()\n"
   ]
  }
 ],
 "metadata": {
  "kernelspec": {
   "display_name": "Python 3 (ipykernel)",
   "language": "python",
   "name": "python3"
  },
  "language_info": {
   "codemirror_mode": {
    "name": "ipython",
    "version": 3
   },
   "file_extension": ".py",
   "mimetype": "text/x-python",
   "name": "python",
   "nbconvert_exporter": "python",
   "pygments_lexer": "ipython3",
   "version": "3.11.2"
  }
 },
 "nbformat": 4,
 "nbformat_minor": 5
}
